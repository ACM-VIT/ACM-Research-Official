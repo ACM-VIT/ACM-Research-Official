{
 "cells": [
  {
   "cell_type": "markdown",
   "id": "e5f5732b",
   "metadata": {},
   "source": [
    "### Demonstration of Quantum Key Distribution with the Ekert 91 Protocol\n",
    "\n",
    "Algorithm -\n",
    "1. First generate the a maximally entangled qubit pair |psi+> = 1/root(2) * (|01> + |10>)\n",
    "2. Send one qubit to Alice and one qubit to Bob\n",
    "3. Both Alice and Bob perform their measurement and make the measurement bases public.\n",
    "4. According to the new information obtained, a sifted key is created, which can be used for secure communication\n",
    "\n",
    "Modification to this Algorithm (because we get only 1 quantum computer) -\n",
    "1. First generate the a maximally entangled qubit pair |psi+> = 1/root(2) * (|01> + |10>)\n",
    "2. Take the measurement bases from Alice and Bob\n",
    "3. Perform measurement, and send the measurement results to Alice and Bob respectively\n",
    "4. Note that Alice and Bob do not have each other's measurement outcomes, they have only theirs\n",
    "5. The measurement bases are made public, and the sifted key is obtained"
   ]
  },
  {
   "cell_type": "code",
   "execution_count": 24,
   "id": "55c2a86f",
   "metadata": {},
   "outputs": [
    {
     "name": "stdout",
     "output_type": "stream",
     "text": [
      "Process Complete!\n"
     ]
    }
   ],
   "source": [
    "import os\n",
    "import random\n",
    "from apikey import token\n",
    "\n",
    "from qiskit import execute\n",
    "from qiskit.circuit import QuantumRegister, ClassicalRegister, QuantumCircuit\n",
    "\n",
    "from quantuminspire.credentials import enable_account, get_authentication\n",
    "from quantuminspire.qiskit import QI\n",
    "\n",
    "print(\"Process Complete!\")"
   ]
  },
  {
   "cell_type": "code",
   "execution_count": 2,
   "id": "7fd445f1",
   "metadata": {},
   "outputs": [
    {
     "name": "stdout",
     "output_type": "stream",
     "text": [
      "Process Complete!\n"
     ]
    }
   ],
   "source": [
    "# Initiating the Quantum Inspire Account -\n",
    "enable_account(token)\n",
    "authentication = get_authentication()\n",
    "QI.set_authentication()\n",
    "qi_backend = QI.get_backend('QX single-node simulator')\n",
    "\n",
    "print(\"Process Complete!\")"
   ]
  },
  {
   "cell_type": "code",
   "execution_count": 3,
   "id": "89f0ac3e",
   "metadata": {},
   "outputs": [
    {
     "name": "stdout",
     "output_type": "stream",
     "text": [
      "Process Complete!\n"
     ]
    }
   ],
   "source": [
    "# Step 1 - Creating EPR Pair\n",
    "q = QuantumRegister(2)\n",
    "b = ClassicalRegister(2)\n",
    "circuit = QuantumCircuit(q, b)\n",
    "\n",
    "circuit.h(q[0])\n",
    "circuit.x(q[1])\n",
    "circuit.cx(q[0], q[1])\n",
    "\n",
    "print(\"Process Complete!\")"
   ]
  },
  {
   "cell_type": "markdown",
   "id": "0dd9c341",
   "metadata": {},
   "source": [
    "#### Measurement\n",
    "\n",
    "Ai = Alice's measurement  \n",
    "Bi = Bob's measurement  \n",
    "\n",
    "A more robust approach would involve the following bases -   \n",
    "A1 = Alice measures along the Z basis  \n",
    "A2 = Alice measures along the X basis  \n",
    "A3 = Alice measures along 1/root(2) * (Z + X)  \n",
    "\n",
    "B1 = Bob measures along the Z basis  \n",
    "B2 = Bob measures along the 1/root(2) * (Z - X)  \n",
    "B3 = Bob measures along the 1/root(2) * (Z + X)  \n",
    "\n",
    "Going with the following bases options for simplicity -  \n",
    "A1 = Alice measures along the Z basis  \n",
    "A2 = Alice measures along the X basis  \n",
    "B1 = Bob measures along the Z basis  \n",
    "B2 = Bob measures along the X basis  "
   ]
  },
  {
   "cell_type": "code",
   "execution_count": 4,
   "id": "0d8cf283",
   "metadata": {},
   "outputs": [
    {
     "name": "stdout",
     "output_type": "stream",
     "text": [
      "{'01': 137, '10': 119}\n"
     ]
    }
   ],
   "source": [
    "# Actual protocol's measurements are done as follows -\n",
    "# Giving q0 to Alice and q1 to Bob\n",
    "# can be 1,2 or 3\n",
    "alice = 1 \n",
    "bob = 1\n",
    "\n",
    "if alice == 2:\n",
    "    circuit.x(q[0])\n",
    "\n",
    "if alice == 3:\n",
    "    circuit.s(q[0])\n",
    "    circuit.h(q[0])\n",
    "    circuit.t(q[0])\n",
    "    circuit.h(q[0])\n",
    "\n",
    "if bob == 2:\n",
    "    circuit.s(q[1])\n",
    "    circuit.h(q[1])\n",
    "    circuit.t(q[1]).inverse()\n",
    "    \n",
    "if bob == 3:\n",
    "    circuit.s(q[1])\n",
    "    circuit.h(q[1])\n",
    "    circuit.t(q[1])\n",
    "    circuit.h(q[1])\n",
    "    \n",
    "circuit.measure(q, b)\n",
    "qi_job = execute(circuit, backend=qi_backend, shots=1)\n",
    "qi_result = qi_job.result()\n",
    "result = qi_result.get_counts(circuit)\n",
    "\n",
    "print(result)"
   ]
  },
  {
   "cell_type": "code",
   "execution_count": 32,
   "id": "231c7633",
   "metadata": {},
   "outputs": [
    {
     "name": "stdout",
     "output_type": "stream",
     "text": [
      "Process Complete!\n"
     ]
    }
   ],
   "source": [
    "def entangle_qubits(qc, q, q1, q2):\n",
    "    \"\"\"\n",
    "    Puts the specified qubits in a maximally entangled state - |psi+>\n",
    "    |psi+> = 1/root(2) * (|01> + |10>)\n",
    "    \n",
    "    Params:\n",
    "    qc = quantum circuit object\n",
    "    q  = qubits\n",
    "    q1, q2 = the two qubits to be entangled\n",
    "    \"\"\"\n",
    "    \n",
    "    qc.h(q[q1])\n",
    "    qc.x(q[q2])\n",
    "    qc.cx(q[q1], q[q2])\n",
    "\n",
    "def perform_measurement(qc, q, b, basis1, basis2):\n",
    "    \"\"\"\n",
    "    Returns one bit of the key generated using the Ekert 91 protocol\n",
    "    basis1 = Measurement basis of Alice\n",
    "    basis2 = Measurement basis of Bob\n",
    "    \"\"\"\n",
    "    \n",
    "    alice = basis1\n",
    "    bob = basis2\n",
    "\n",
    "    if alice == 2:\n",
    "        qc.x(q[0])\n",
    "\n",
    "    if bob == 2:\n",
    "        qc.x(q[1])\n",
    "\n",
    "    qc.measure(q, b)\n",
    "    qi_job = execute(qc, backend=qi_backend, shots=1)\n",
    "    qi_result = qi_job.result()\n",
    "    result = qi_result.get_counts(qc)\n",
    "\n",
    "    outcome = list(result.keys())[0]\n",
    "    return outcome[0], outcome[1]\n",
    "    \n",
    "def ekert91(basis1, basis2):\n",
    "    \n",
    "    q = QuantumRegister(2)\n",
    "    b = ClassicalRegister(2)\n",
    "    qc = QuantumCircuit(q, b)\n",
    "    \n",
    "    # Step 1 - Creating EPR Pair\n",
    "    entangle_qubits(qc, q, 0, 1)\n",
    "    \n",
    "    # Step 2 - \n",
    "    outcome = perform_measurement(qc, q, b, basis1, basis2)\n",
    "    return outcome[0], outcome[1]\n",
    "\n",
    "def generateKey(bases1, bases2):\n",
    "    if len(bases1) != len(bases2) or len(bases1) != 10:\n",
    "        return False\n",
    "    \n",
    "    aliceOutcome = []\n",
    "    bobOutcome = []\n",
    "    \n",
    "    # Taking 10 bits for our unsifted key\n",
    "    n = 10\n",
    "    for i in range(n):\n",
    "        result = ekert91(bases1[i], bases2[i])\n",
    "        aliceOutcome.append(int(result[0]))\n",
    "        bobOutcome.append(int(result[1]))\n",
    "    \n",
    "    # Send the outcomes to the respective receivers\n",
    "    # After this, Alice and Bob will publicly announce their measurement \n",
    "    # bases and obtain the sifted key!\n",
    "    return aliceOutcome, bobOutcome\n",
    "\n",
    "def generateBases(n):\n",
    "    \"\"\"\n",
    "    Function to generate a psuedorandom sequence of bases \n",
    "    \"\"\"\n",
    "    bases = []\n",
    "    \n",
    "    for i in range(n):\n",
    "        bases.append(random.randint(1,2))\n",
    "\n",
    "    return bases\n",
    "\n",
    "print(\"Process Complete!\")"
   ]
  },
  {
   "cell_type": "code",
   "execution_count": 36,
   "id": "ff42b33c",
   "metadata": {},
   "outputs": [],
   "source": [
    "\"\"\"\n",
    "If both Alice and Bob measure along the X basis, then if Alice's bit is 0 then Bob's bit is also 0.\n",
    "Similarly, if Alice's bit is 1, then Bob's bit is also 1.\n",
    "\n",
    "If both Alice and Bob measure along the Z basis, then their outcomes are anti-correlated, i.e.\n",
    "If Alice = 1, then Bob = 0\n",
    "If Alice = 0, then Bob = 1\n",
    "\n",
    "In this case, both have decided that if they measure along the Z basis, then Bob will flip his bit.\n",
    "\"\"\"\n",
    "\n",
    "def getSiftedKey(key, user, bases1, bases2):\n",
    "    siftedKey = []\n",
    "    \n",
    "        \n",
    "    for i in range(len(bases1)):\n",
    "        if bases1[i] == bases2[i]:\n",
    "            if bases1[i] == 1: # Both measured along the Z basis, flip Bob's bit\n",
    "                if user == \"Bob\":\n",
    "                    if key[i] == 0:\n",
    "                        siftedKey.append(1)\n",
    "                    else:\n",
    "                        siftedKey.append(0)\n",
    "                else:\n",
    "                    siftedKey.append(key[i])\n",
    "            else: # Both measured along the X basis\n",
    "                siftedKey.append(key[i])\n",
    "    \n",
    "    return siftedKey\n"
   ]
  },
  {
   "cell_type": "code",
   "execution_count": 41,
   "id": "f4d8e8b8",
   "metadata": {},
   "outputs": [
    {
     "name": "stdout",
     "output_type": "stream",
     "text": [
      "Alice Bases:  [1, 1, 1, 2, 2, 2, 1, 1, 1, 1]\n",
      "Bob Bases  :  [1, 1, 1, 2, 1, 1, 1, 1, 2, 1]\n",
      "Alice's Key:  [0, 0, 1, 0, 0, 1, 1, 0, 1, 0]\n",
      "Bob's Key  :  [1, 1, 0, 1, 0, 1, 0, 1, 1, 1]\n",
      "Alice's Sifted Key:  [0, 0, 1, 0, 1, 0, 0]\n",
      "Bob's Sifted Key  :  [0, 0, 1, 1, 1, 0, 0]\n"
     ]
    }
   ],
   "source": [
    "# Execution of the whole protocol -\n",
    "\n",
    "b1 = generateBases(10)\n",
    "b2 = generateBases(10)\n",
    "\n",
    "print(\"Alice Bases: \", b1)\n",
    "print(\"Bob Bases  : \", b2)\n",
    "\n",
    "AliceKey, BobKey = generateKey(b1, b2)\n",
    "print(\"Alice's Key: \", AliceKey)\n",
    "print(\"Bob's Key  : \", BobKey)\n",
    "\n",
    "# Now Alice and Bob have their own measurements. They have also publicly announced their bases\n",
    "# They need to individually find the sifted keys from what they receive\n",
    "Alice_sifted_key = getSiftedKey(AliceKey, \"Alice\", b1, b2)\n",
    "Bob_sifted_key = getSiftedKey(BobKey, \"Bob\", b1, b2)\n",
    "\n",
    "print(\"Alice's Sifted Key: \", Alice_sifted_key)\n",
    "print(\"Bob's Sifted Key  : \", Bob_sifted_key)"
   ]
  },
  {
   "cell_type": "markdown",
   "id": "f893a405",
   "metadata": {},
   "source": [
    "As expected, both their sifted keys are the same. (barring some noise)  \n",
    "Thus, Quantum Key Distribution has been demonstrated"
   ]
  },
  {
   "cell_type": "code",
   "execution_count": null,
   "id": "21ae70f7",
   "metadata": {},
   "outputs": [],
   "source": []
  }
 ],
 "metadata": {
  "kernelspec": {
   "display_name": "env",
   "language": "python",
   "name": "env"
  },
  "language_info": {
   "codemirror_mode": {
    "name": "ipython",
    "version": 3
   },
   "file_extension": ".py",
   "mimetype": "text/x-python",
   "name": "python",
   "nbconvert_exporter": "python",
   "pygments_lexer": "ipython3",
   "version": "3.9.7"
  }
 },
 "nbformat": 4,
 "nbformat_minor": 5
}
